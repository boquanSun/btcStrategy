{
 "cells": [
  {
   "cell_type": "code",
   "execution_count": 1,
   "id": "c08edad8",
   "metadata": {},
   "outputs": [],
   "source": [
    "import pandas as pd\n",
    "from dateutil import parser\n",
    "import numpy as np"
   ]
  },
  {
   "cell_type": "code",
   "execution_count": 2,
   "id": "205d0063",
   "metadata": {},
   "outputs": [],
   "source": [
    "btc_usdt = pd.read_csv(\"./edav_onchaindata/BTC-USDT.csv\")\n",
    "btc_usdt[\"time\"] = pd.to_datetime(btc_usdt[\"time\"])\n",
    "btc_usdt = btc_usdt.sort_values(by = \"time\")\n",
    "# btc_usdt[\"price\"] = (btc_usdt[\"high\"].to_numpy() + btc_usdt[\"low\"].to_numpy() + btc_usdt[\"close\"].to_numpy())/3\n",
    "btc_usdt[\"price\"] =  btc_usdt[\"close\"].to_numpy()\n",
    "btc_usdt = btc_usdt[[\"time\", \"price\"]]"
   ]
  },
  {
   "cell_type": "code",
   "execution_count": 3,
   "id": "793b7e7d",
   "metadata": {},
   "outputs": [],
   "source": [
    "fear_df = pd.read_csv(\"./edav_onchaindata/fundamentalDf.csv\")\n",
    "fear_df[\"time\"] = pd.to_datetime(fear_df[\"time\"]).dt.date\n",
    "fear_df = fear_df[[\"fear\", \"time\"]]"
   ]
  },
  {
   "cell_type": "code",
   "execution_count": 10,
   "id": "8cab88f8",
   "metadata": {},
   "outputs": [
    {
     "data": {
      "text/plain": [
       "{datetime.date(2022, 3, 25):           time  future_price    price  basis_rate  recal_basis_rate  fear\n",
       " 0   2021-09-25       44334.5  42678.0    3.881391         -1.548609    28\n",
       " 1   2021-09-26       44892.0  43172.1    3.983823         -1.416177    27\n",
       " 2   2021-09-27       43740.1  42152.9    3.765340         -1.604660    26\n",
       " 3   2021-09-28       42490.3  41018.6    3.587885         -1.752115    25\n",
       " 4   2021-09-29       43049.6  41527.4    3.665532         -1.644468    24\n",
       " ..         ...           ...      ...         ...               ...   ...\n",
       " 62  2021-11-26       55531.2  53739.6    3.333854         -0.236146    47\n",
       " 63  2021-11-27       56615.8  54726.8    3.451691         -0.088309    21\n",
       " 64  2021-11-28       59519.8  57286.8    3.897931          0.387931    27\n",
       " 65  2021-11-29       59978.7  57769.2    3.824702          0.344702    33\n",
       " 66  2021-11-30       59149.3  56949.9    3.861991          0.411991    40\n",
       " \n",
       " [67 rows x 6 columns],\n",
       " datetime.date(2020, 6, 26):            time  future_price   price  basis_rate  recal_basis_rate  fear\n",
       " 0    2020-03-02        9234.2  8911.1    3.625815          0.145815    38\n",
       " 1    2020-03-03        9060.0  8759.2    3.434104         -0.015896    38\n",
       " 2    2020-03-04        9018.9  8750.8    3.063720         -0.356280    40\n",
       " 3    2020-03-05        9388.7  9054.5    3.690982          0.300982    41\n",
       " 4    2020-03-06        9497.4  9133.1    3.988788          0.628788    39\n",
       " ..          ...           ...     ...         ...               ...   ...\n",
       " 109  2020-06-19        9311.2  9312.0   -0.008591         -0.218591    39\n",
       " 110  2020-06-20        9365.2  9358.4    0.072662         -0.107338    38\n",
       " 111  2020-06-21        9296.5  9295.7    0.008606         -0.141394    37\n",
       " 112  2020-06-22        9690.2  9684.0    0.064023         -0.055977    38\n",
       " 113  2020-06-23        9627.3  9623.8    0.036368         -0.053632    41\n",
       " \n",
       " [114 rows x 6 columns],\n",
       " datetime.date(2021, 6, 25):            time  future_price    price  basis_rate  recal_basis_rate  fear\n",
       " 0    2020-12-12       19502.5  18806.4    3.701400         -2.148600    90\n",
       " 1    2020-12-13       20205.0  19177.9    5.355644         -0.464356    91\n",
       " 2    2020-12-14       20243.3  19273.3    5.032869         -0.757131    95\n",
       " 3    2020-12-15       20404.0  19424.1    5.044764         -0.715236    91\n",
       " 4    2020-12-16       22711.6  21337.5    6.439836          0.709836    92\n",
       " ..          ...           ...      ...         ...               ...   ...\n",
       " 187  2021-06-17       38080.9  38100.5   -0.051443         -0.291443    26\n",
       " 188  2021-06-18       35795.5  35818.2   -0.063376         -0.273376    25\n",
       " 189  2021-06-19       35452.9  35483.9   -0.087364         -0.267364    23\n",
       " 190  2021-06-20       35590.8  35598.9   -0.022754         -0.172754    21\n",
       " 191  2021-06-21       31601.0  31616.3   -0.048393         -0.168393    23\n",
       " \n",
       " [192 rows x 6 columns],\n",
       " datetime.date(2021, 3, 26):            time  future_price    price  basis_rate  recal_basis_rate  fear\n",
       " 0    2020-09-13       10533.0  10330.0    1.965150         -3.854850    38\n",
       " 1    2020-09-14       10897.6  10672.0    2.113943         -3.676057    39\n",
       " 2    2020-09-15       11048.4  10785.0    2.442281         -3.317719    47\n",
       " 3    2020-09-16       11232.0  10950.7    2.568786         -3.161214    43\n",
       " 4    2020-09-17       11288.1  10939.1    3.190390         -2.509610    48\n",
       " ..          ...           ...      ...         ...               ...   ...\n",
       " 187  2021-03-19       58282.9  58025.6    0.443425          0.233425    71\n",
       " 188  2021-03-20       58276.6  58114.3    0.279277          0.099277    75\n",
       " 189  2021-03-21       57490.4  57339.0    0.264044          0.114044    73\n",
       " 190  2021-03-22       54136.6  54075.6    0.112805         -0.007195    70\n",
       " 191  2021-03-23       54405.6  54345.0    0.111510          0.021510    66\n",
       " \n",
       " [192 rows x 6 columns],\n",
       " datetime.date(2021, 9, 24):            time  future_price    price  basis_rate  recal_basis_rate  fear\n",
       " 0    2021-03-13       69044.0  61187.6   12.839856          6.989856    74\n",
       " 1    2021-03-14       66107.5  58989.9   12.065794          6.245794    78\n",
       " 2    2021-03-15       61120.0  55605.0    9.918173          4.128173    76\n",
       " 3    2021-03-16       62576.5  56904.9    9.966804          4.206804    71\n",
       " 4    2021-03-17       65011.9  58886.1   10.402795          4.672795    71\n",
       " ..          ...           ...      ...         ...               ...   ...\n",
       " 187  2021-09-16       47817.2  47741.7    0.158143         -0.081857    53\n",
       " 188  2021-09-17       47317.4  47296.3    0.044612         -0.165388    48\n",
       " 189  2021-09-18       48331.6  48305.5    0.054031         -0.125969    50\n",
       " 190  2021-09-19       47266.3  47244.4    0.046355         -0.103645    53\n",
       " 191  2021-09-20       42992.0  43020.6   -0.066480         -0.186480    50\n",
       " \n",
       " [192 rows x 6 columns],\n",
       " datetime.date(2021, 12, 31):            time  future_price    price  basis_rate  recal_basis_rate  fear\n",
       " 0    2021-06-12       37255.2  35547.4    4.804289         -1.255711    28\n",
       " 1    2021-06-13       41238.6  39023.0    5.677677         -0.352323    23\n",
       " 2    2021-06-14       42752.0  40512.3    5.528444         -0.471556    28\n",
       " 3    2021-06-15       42402.7  40153.9    5.600452         -0.369548    38\n",
       " 4    2021-06-16       40232.2  38350.9    4.905491         -1.034509    33\n",
       " ..          ...           ...      ...         ...               ...   ...\n",
       " 167  2021-11-26       54100.1  53739.6    0.670827         -0.379173    47\n",
       " 168  2021-11-27       55092.7  54726.8    0.668594         -0.351406    21\n",
       " 169  2021-11-28       57898.2  57286.8    1.067262          0.077262    27\n",
       " 170  2021-11-29       58342.0  57769.2    0.991532          0.031532    33\n",
       " 171  2021-11-30       57439.4  56949.9    0.859527         -0.070473    40\n",
       " \n",
       " [172 rows x 6 columns],\n",
       " datetime.date(2020, 12, 25):            time  future_price    price  basis_rate  recal_basis_rate  fear\n",
       " 0    2020-06-14        9451.9   9343.3    1.162330         -4.657670    40\n",
       " 1    2020-06-15        9498.1   9424.4    0.782013         -5.007987    37\n",
       " 2    2020-06-16        9621.2   9523.9    1.021640         -4.738360    39\n",
       " 3    2020-06-17        9585.2   9462.4    1.297768         -4.432232    38\n",
       " 4    2020-06-18        9471.1   9387.5    0.890546         -4.809454    40\n",
       " ..          ...           ...      ...         ...               ...   ...\n",
       " 187  2020-12-18       23215.9  23118.6    0.420873          0.210873    95\n",
       " 188  2020-12-19       23952.8  23834.7    0.495496          0.315496    93\n",
       " 189  2020-12-20       23565.9  23471.7    0.401334          0.251334    92\n",
       " 190  2020-12-21       22747.1  22722.1    0.110025         -0.009975    92\n",
       " 191  2020-12-22       23845.0  23816.0    0.121767          0.031767    88\n",
       " \n",
       " [192 rows x 6 columns],\n",
       " datetime.date(2020, 9, 25):            time  future_price    price  basis_rate  recal_basis_rate  fear\n",
       " 0    2020-03-15        5392.0   5363.6    0.529495         -5.290505    12\n",
       " 1    2020-03-16        4953.1   5028.0   -1.489658         -7.279658     9\n",
       " 2    2020-03-17        5287.9   5314.1   -0.493028         -6.253028     8\n",
       " 3    2020-03-18        5386.0   5393.4   -0.137205         -5.867205    11\n",
       " 4    2020-03-19        6170.0   6163.1    0.111957         -5.588043    12\n",
       " ..          ...           ...      ...         ...               ...   ...\n",
       " 187  2020-09-18       10947.9  10932.8    0.138116         -0.071884    49\n",
       " 188  2020-09-19       11095.2  11080.7    0.130858         -0.049142    48\n",
       " 189  2020-09-20       10925.8  10921.1    0.043036         -0.106964    52\n",
       " 190  2020-09-21       10415.7  10417.8   -0.020158         -0.140158    48\n",
       " 191  2020-09-22       10538.2  10528.9    0.088328         -0.001672    39\n",
       " \n",
       " [192 rows x 6 columns]}"
      ]
     },
     "execution_count": 10,
     "metadata": {},
     "output_type": "execute_result"
    }
   ],
   "source": [
    "future_dfs"
   ]
  },
  {
   "cell_type": "code",
   "execution_count": 4,
   "id": "35075d78",
   "metadata": {},
   "outputs": [],
   "source": [
    "from os import listdir\n",
    "from os.path import isfile, join\n",
    "futures = [f for f in listdir(\"./edav_onchaindata/future-swap\") if isfile(join(\"./edav_onchaindata/future-swap\", f))]"
   ]
  },
  {
   "cell_type": "code",
   "execution_count": 5,
   "id": "0a75c03b",
   "metadata": {},
   "outputs": [],
   "source": [
    "future_dfs = {}\n",
    "for file_name in futures:\n",
    "    delvery_time = \"20\" + file_name[9:11] + \"-\" + file_name[11:13] + \"-\" + file_name[13:15]\n",
    "    delvery_time = parser.parse(delvery_time).date()\n",
    "    delvery_time = delvery_time\n",
    "    df = pd.read_csv(\"./edav_onchaindata/future-swap/{}\".format(file_name))\n",
    "    df[\"time\"] = pd.to_datetime(df[\"time\"])\n",
    "    df = df.sort_values(by = \"time\")\n",
    "#     df[\"future_price\"] = (df[\"high\"].to_numpy() + df[\"low\"].to_numpy() + df[\"close\"].to_numpy())/3\n",
    "    df[\"future_price\"] = df[\"close\"].to_numpy()\n",
    "    df = df[[\"time\", \"future_price\"]]\n",
    "    df = pd.merge(df, btc_usdt, how = \"inner\", left_on=\"time\", right_on=\"time\")\n",
    "    df[\"basis_rate\"] = (df[\"future_price\"] - df[\"price\"])/df[\"price\"] * 100\n",
    "    df[\"time\"] = df[\"time\"].dt.date\n",
    "    df = df.groupby(\"time\").tail(1)\n",
    "    default_funding_rate = np.array((delvery_time - df.time) / np.timedelta64(1, 'D')) * 0.03\n",
    "    df[\"recal_basis_rate\"] = df[\"basis_rate\"].to_numpy() - default_funding_rate\n",
    "    df = df.iloc[2:len(df)-3]\n",
    "    df = pd.merge(df, fear_df, how = \"inner\", left_on=\"time\", right_on=\"time\")\n",
    "    future_dfs[delvery_time] = df"
   ]
  },
  {
   "cell_type": "code",
   "execution_count": 6,
   "id": "22ce10a9",
   "metadata": {},
   "outputs": [],
   "source": [
    "deliveries = list(future_dfs.keys())"
   ]
  },
  {
   "cell_type": "code",
   "execution_count": 7,
   "id": "355baa3c",
   "metadata": {},
   "outputs": [
    {
     "ename": "ModuleNotFoundError",
     "evalue": "No module named 'plotly'",
     "output_type": "error",
     "traceback": [
      "\u001b[0;31m---------------------------------------------------------------------------\u001b[0m",
      "\u001b[0;31mModuleNotFoundError\u001b[0m                       Traceback (most recent call last)",
      "\u001b[0;32m/var/folders/14/hfpsfn7975zfm7479kkbjc5h0000gn/T/ipykernel_79891/2581679207.py\u001b[0m in \u001b[0;36m<module>\u001b[0;34m\u001b[0m\n\u001b[0;32m----> 1\u001b[0;31m \u001b[0;32mfrom\u001b[0m \u001b[0mplotly\u001b[0m\u001b[0;34m.\u001b[0m\u001b[0msubplots\u001b[0m \u001b[0;32mimport\u001b[0m \u001b[0mmake_subplots\u001b[0m\u001b[0;34m\u001b[0m\u001b[0;34m\u001b[0m\u001b[0m\n\u001b[0m\u001b[1;32m      2\u001b[0m \u001b[0;32mimport\u001b[0m \u001b[0mplotly\u001b[0m\u001b[0;34m.\u001b[0m\u001b[0mgraph_objects\u001b[0m \u001b[0;32mas\u001b[0m \u001b[0mgo\u001b[0m\u001b[0;34m\u001b[0m\u001b[0;34m\u001b[0m\u001b[0m\n\u001b[1;32m      3\u001b[0m \u001b[0;34m\u001b[0m\u001b[0m\n\u001b[1;32m      4\u001b[0m fig = make_subplots(rows=8, cols=1, \n\u001b[1;32m      5\u001b[0m                     specs=[[{\"secondary_y\": True}], [{\"secondary_y\": True}],\n",
      "\u001b[0;31mModuleNotFoundError\u001b[0m: No module named 'plotly'"
     ]
    }
   ],
   "source": [
    "from plotly.subplots import make_subplots\n",
    "import plotly.graph_objects as go\n",
    "\n",
    "fig = make_subplots(rows=8, cols=1, \n",
    "                    specs=[[{\"secondary_y\": True}], [{\"secondary_y\": True}],\n",
    "                            [{\"secondary_y\": True}], [{\"secondary_y\": True}],\n",
    "                            [{\"secondary_y\": True}], [{\"secondary_y\": True}],\n",
    "                            [{\"secondary_y\": True}], [{\"secondary_y\": True}]])\n",
    "\n",
    "for i in range(4):\n",
    "    for j in range(2):\n",
    "        df = future_dfs[deliveries[2*i+j]]\n",
    "        fig.add_trace(\n",
    "            go.Scatter(x=df.time, y=df.recal_basis_rate, name=\"recal_basis_rate\"),\n",
    "            row=2*i+j+1, col=1,\n",
    "            secondary_y=False,\n",
    "        )\n",
    "        \n",
    "        fig.add_trace(\n",
    "            go.Scatter(x=df.time, y=df.fear, name = \"fear\"),\n",
    "            row=2*i+j+1, col=1,\n",
    "            secondary_y=True,\n",
    "        )\n",
    "fig.update_layout(height=2400, width=900)\n",
    "fig.show()"
   ]
  },
  {
   "cell_type": "code",
   "execution_count": null,
   "id": "1041eb00",
   "metadata": {},
   "outputs": [],
   "source": [
    "df = future_dfs[deliveries[0]]\n",
    "df[\"fear \"]"
   ]
  },
  {
   "cell_type": "code",
   "execution_count": null,
   "id": "68a1c055",
   "metadata": {},
   "outputs": [],
   "source": [
    "np.array((datetime.datetime(2020, 6, 26, 0, 0) - B.index) / np.timedelta64(1, 'D')) * 0.3"
   ]
  },
  {
   "cell_type": "code",
   "execution_count": null,
   "id": "6bb44f83",
   "metadata": {},
   "outputs": [],
   "source": []
  },
  {
   "cell_type": "code",
   "execution_count": null,
   "id": "f2f306a8",
   "metadata": {},
   "outputs": [],
   "source": []
  },
  {
   "cell_type": "code",
   "execution_count": null,
   "id": "d30b4f5f",
   "metadata": {},
   "outputs": [],
   "source": []
  },
  {
   "cell_type": "code",
   "execution_count": null,
   "id": "2c7ed866",
   "metadata": {},
   "outputs": [],
   "source": []
  },
  {
   "cell_type": "code",
   "execution_count": null,
   "id": "da073d00",
   "metadata": {},
   "outputs": [],
   "source": []
  },
  {
   "cell_type": "code",
   "execution_count": null,
   "id": "b1aa0fe0",
   "metadata": {},
   "outputs": [],
   "source": []
  },
  {
   "cell_type": "code",
   "execution_count": null,
   "id": "469785cd",
   "metadata": {},
   "outputs": [],
   "source": []
  },
  {
   "cell_type": "code",
   "execution_count": null,
   "id": "729a26ff",
   "metadata": {},
   "outputs": [],
   "source": []
  },
  {
   "cell_type": "code",
   "execution_count": null,
   "id": "6866a976",
   "metadata": {},
   "outputs": [],
   "source": []
  },
  {
   "cell_type": "code",
   "execution_count": null,
   "id": "cc8ffb2e",
   "metadata": {},
   "outputs": [],
   "source": []
  },
  {
   "cell_type": "code",
   "execution_count": null,
   "id": "b3e8f48b",
   "metadata": {},
   "outputs": [],
   "source": [
    "def fuck(X, shares):\n",
    "    X_dic = {}\n",
    "    for x in X:\n",
    "        "
   ]
  }
 ],
 "metadata": {
  "kernelspec": {
   "display_name": "Python 3 (ipykernel)",
   "language": "python",
   "name": "python3"
  },
  "language_info": {
   "codemirror_mode": {
    "name": "ipython",
    "version": 3
   },
   "file_extension": ".py",
   "mimetype": "text/x-python",
   "name": "python",
   "nbconvert_exporter": "python",
   "pygments_lexer": "ipython3",
   "version": "3.8.5"
  }
 },
 "nbformat": 4,
 "nbformat_minor": 5
}
